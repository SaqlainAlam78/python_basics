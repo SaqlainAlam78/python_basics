{
 "cells": [
  {
   "cell_type": "code",
   "execution_count": null,
   "id": "e9fc750b",
   "metadata": {},
   "outputs": [],
   "source": [
    "#1. Why are functions advantageous to have in your programs?\n",
    "\n",
    "'''Ans -Functions enable reuse of code, improve maintainability and scalability.'''\n"
   ]
  },
  {
   "cell_type": "code",
   "execution_count": null,
   "id": "209447f1",
   "metadata": {},
   "outputs": [],
   "source": [
    "#2. When does the code in a function run: when it's specified or when it's called?\n",
    "\n",
    "'''Ans - The code in a function runs only when it is specified'''\n"
   ]
  },
  {
   "cell_type": "code",
   "execution_count": null,
   "id": "cca069eb",
   "metadata": {},
   "outputs": [],
   "source": [
    "#3. What statement creates a function?\n",
    "\n",
    "'''Ans - def fun() :\n",
    "'''"
   ]
  },
  {
   "cell_type": "code",
   "execution_count": null,
   "id": "fcb060db",
   "metadata": {},
   "outputs": [],
   "source": [
    "#4. What is the difference between a function and a function call?\n",
    "\n",
    "'''\n",
    "Ans - A function is procedure to achieve a particular result while function call is using this function to achive that task.\n",
    "\n",
    "'''\n",
    "\n",
    "\n",
    "\n",
    "\n",
    "\n",
    "\n"
   ]
  },
  {
   "cell_type": "code",
   "execution_count": null,
   "id": "a3b16390",
   "metadata": {},
   "outputs": [],
   "source": [
    "#5. How many global scopes are there in a Python program? How many local scopes?\n",
    "\n",
    "'''Ans - There is one global scope,whereas there can be n numbers of local scopes as defined by the user'''\n"
   ]
  },
  {
   "cell_type": "code",
   "execution_count": null,
   "id": "ee7da1b3",
   "metadata": {},
   "outputs": [],
   "source": [
    "#6. What happens to variables in a local scope when the function call returns?\n",
    "\n",
    "'''\n",
    "Ans - variable in a local scope is erased once the function call returns\n",
    "'''\n"
   ]
  },
  {
   "cell_type": "code",
   "execution_count": null,
   "id": "14ca9ba0",
   "metadata": {},
   "outputs": [],
   "source": [
    "#7. What is the concept of a return value? Is it possible to have a return value in an expression?\n",
    "\n",
    "'''\n",
    "Ans - A return value is used when the user wants to return a value in context to its function.\n",
    "      Yes it is possible to have a return value in an expression.\n",
    "\n",
    "'''\n",
    "\n"
   ]
  },
  {
   "cell_type": "code",
   "execution_count": null,
   "id": "81827ba5",
   "metadata": {},
   "outputs": [],
   "source": [
    "#8. If a function does not have a return statement, what is the return value of a call to that function?\n",
    "\n",
    "'''\n",
    "Ans - None\n",
    "'''\n",
    "\n"
   ]
  },
  {
   "cell_type": "code",
   "execution_count": null,
   "id": "5c99306b",
   "metadata": {},
   "outputs": [],
   "source": [
    "#9. How do you make a function variable refer to the global variable?\n",
    "\n",
    "'''\n",
    "Ans - use global keyword\n",
    "'''\n",
    "\n"
   ]
  },
  {
   "cell_type": "code",
   "execution_count": null,
   "id": "7ee2874d",
   "metadata": {},
   "outputs": [],
   "source": [
    "#10. What is the data type of None?\n",
    "\n",
    "'''\n",
    "Ans - None\n",
    "'''"
   ]
  },
  {
   "cell_type": "code",
   "execution_count": null,
   "id": "7e03d232",
   "metadata": {},
   "outputs": [],
   "source": [
    "#11. What does the sentence import areallyourpetsnamederic do?\n",
    "\n",
    "'''\n",
    "Ans - it will import areallyourpetnamederic module.\n",
    "'''\n",
    "\n",
    "\n"
   ]
  },
  {
   "cell_type": "code",
   "execution_count": null,
   "id": "c09dc0b2",
   "metadata": {},
   "outputs": [],
   "source": [
    "#12. If you had a bacon() feature in a spam module, what would you call it after importing spam?\n",
    "\n",
    "'''\n",
    "Ans - spam.bacon()\n",
    "'''\n",
    "\n",
    "\n"
   ]
  },
  {
   "cell_type": "code",
   "execution_count": null,
   "id": "ac45c002",
   "metadata": {},
   "outputs": [],
   "source": [
    "#13. What can you do to save a programme from crashing if it encounters an error?\n",
    "\n",
    "'''\n",
    "Ans - I will use try and catch claus to handle the error.\n",
    "'''\n",
    "\n",
    "\n"
   ]
  },
  {
   "cell_type": "code",
   "execution_count": null,
   "id": "bc1bdc55",
   "metadata": {},
   "outputs": [],
   "source": [
    "#14. What is the purpose of the try clause? What is the purpose of the except clause?\n",
    "\n",
    "\n",
    "'''\n",
    "Ans - TRY Clause: when there is a possibility that program can crash,try clause is used so that only that part of it crashes and it wont affect other part of program\n",
    "\n",
    "      EXCEPT Clause: except clause is used when you are trying to run a certain part of program but it fails so it is used as a response to exception.\n",
    "\n",
    "\n",
    "'''\n",
    "\n",
    "\n"
   ]
  },
  {
   "cell_type": "code",
   "execution_count": null,
   "id": "1562128a",
   "metadata": {},
   "outputs": [],
   "source": []
  }
 ],
 "metadata": {
  "kernelspec": {
   "display_name": "Python 3 (ipykernel)",
   "language": "python",
   "name": "python3"
  },
  "language_info": {
   "codemirror_mode": {
    "name": "ipython",
    "version": 3
   },
   "file_extension": ".py",
   "mimetype": "text/x-python",
   "name": "python",
   "nbconvert_exporter": "python",
   "pygments_lexer": "ipython3",
   "version": "3.9.7"
  }
 },
 "nbformat": 4,
 "nbformat_minor": 5
}
