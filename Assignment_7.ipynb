{
 "cells": [
  {
   "cell_type": "code",
   "execution_count": null,
   "id": "bdc3beb1",
   "metadata": {},
   "outputs": [],
   "source": [
    "#1. What is the name of the feature responsible for generating Regex objects?\n",
    "\n",
    "Ans - re.compile()\n"
   ]
  },
  {
   "cell_type": "code",
   "execution_count": null,
   "id": "0effbb81",
   "metadata": {},
   "outputs": [],
   "source": [
    "#2. Why do raw strings often appear in Regex objects?\n",
    "\n",
    "Ans - '''Regular expressions use the backslash character ('\\') to indicate special forms (Metacharacters) or to allow special characters (speical sequences) to be used without invoking their special meaning. This collides with Python’s usage of the same character for the same purpose in string literals. Hence, Raw strings are used (e.g. r\"\\n\") so that backslashes do not have to be escaped.'''"
   ]
  },
  {
   "cell_type": "code",
   "execution_count": null,
   "id": "3df6d2d1",
   "metadata": {},
   "outputs": [],
   "source": [
    "#3. What is the return value of the search() method?\n",
    "\n",
    "Ans - 'none'"
   ]
  },
  {
   "cell_type": "code",
   "execution_count": null,
   "id": "b226410a",
   "metadata": {},
   "outputs": [],
   "source": [
    "#4. From a Match item, how do you get the actual strings that match the pattern?\n",
    "\n",
    "Ans - 'by using group() methods'\n",
    "\n"
   ]
  },
  {
   "cell_type": "code",
   "execution_count": null,
   "id": "ffbdc193",
   "metadata": {},
   "outputs": [],
   "source": [
    "#5. In the regex which created from the r'(\\d\\d\\d)-(\\d\\d\\d-\\d\\d\\d\\d)', what does group zero cover?\n",
    "#Group 2? Group 1?\n",
    "\n",
    "Ans - 'zero group covers the entire pattern match \n",
    "      'the first group cover (\\d\\d\\d) \n",
    "      'the second group cover (\\d\\d\\d-\\d\\d\\d\\d)'\n",
    "\n"
   ]
  },
  {
   "cell_type": "code",
   "execution_count": null,
   "id": "9590c630",
   "metadata": {},
   "outputs": [],
   "source": [
    "#6. In standard expression syntax, parentheses and intervals have distinct meanings. How can you tell a regex that you want it to fit real parentheses and periods?\n",
    "\n",
    "Ans - 'The \\. \\( and \\) escape characters in the raw string passed to re.compile() will match actual parenthesis characters.'\n",
    "\n"
   ]
  },
  {
   "cell_type": "code",
   "execution_count": null,
   "id": "4a52bb4b",
   "metadata": {},
   "outputs": [],
   "source": [
    "#7. The findall() method returns a string list or a list of string tuples. What causes it to return one of\n",
    "#the two options?\n",
    "\n",
    "Ans - 'If the regex pattern has no groups, a list of strings matched is returned. if the regex pattern has groups, a list of tuple of strings is returned.'\n"
   ]
  },
  {
   "cell_type": "code",
   "execution_count": null,
   "id": "f4e1ac26",
   "metadata": {},
   "outputs": [],
   "source": [
    "#8. In standard expressions, what does the | character mean?\n",
    "\n",
    "Ans - 'In Standard expression it means OR operator'\n"
   ]
  },
  {
   "cell_type": "code",
   "execution_count": null,
   "id": "ec055624",
   "metadata": {},
   "outputs": [],
   "source": [
    "#9. In regular expressions, what does the character stand for?\n",
    "\n",
    "Ans - 'In regular Expressions, ? characters represents zero or one match of the preceeding group'\n",
    "\n"
   ]
  },
  {
   "cell_type": "code",
   "execution_count": null,
   "id": "b00107d4",
   "metadata": {},
   "outputs": [],
   "source": [
    "#10.In regular expressions, what is the difference between the + and * characters?\n",
    "\n",
    "Ans - '+ means one or more\n",
    "      '* means zero or more'\n",
    "\n"
   ]
  },
  {
   "cell_type": "code",
   "execution_count": null,
   "id": "b2933ad3",
   "metadata": {},
   "outputs": [],
   "source": [
    "#11. What is the difference between {4} and {4,5} in regular expression?\n",
    "\n",
    "Ans - '{4} means that its preceeding group should repeat 4 times. where as {4,5} means that its preceeding group should repeat mininum 4 times and maximum 5 times.'"
   ]
  },
  {
   "cell_type": "code",
   "execution_count": null,
   "id": "9909decd",
   "metadata": {},
   "outputs": [],
   "source": [
    "#12. What do you mean by the \\d, \\w, and \\s shorthand character classes signify in regular expressions?\n",
    "\n",
    "Ans - '\\d Matches digits, which means 0-9.\n",
    "'\\w Matches alphanumeric characters, which means a-z, A-Z, and 0-9. It also matches the underscore, _.'\n",
    "'\\s Matches whitespace characters, which include the \\t, \\n, \\r, and space characters.'\n"
   ]
  },
  {
   "cell_type": "code",
   "execution_count": null,
   "id": "4a17b56a",
   "metadata": {},
   "outputs": [],
   "source": [
    "#13. What do means by \\D, \\W, and \\S shorthand character classes signify in regular expressions?\n",
    "\n",
    "Ans - '\\D Matches any non-digits. \n",
    "      '\\W Matches any non-word character.'\n",
    "      '\\S Matches non-whitespace characters.''\n",
    "        "
   ]
  },
  {
   "cell_type": "code",
   "execution_count": null,
   "id": "eb409126",
   "metadata": {},
   "outputs": [],
   "source": [
    "#14. What is the difference between .*? and .*?\n",
    "\n",
    "\n",
    "Ans - '.* returns the longest string that meets the condition.\n",
    "      '.*? returns the shortest string that meets the condition.'\n",
    "\n"
   ]
  },
  {
   "cell_type": "code",
   "execution_count": null,
   "id": "cf8bd23d",
   "metadata": {},
   "outputs": [],
   "source": [
    "#15. What is the syntax for matching both numbers and lowercase letters with a character class?\n",
    "\n",
    "Ans - 'syntax : patterns = '^[a-z0-9]*$'\n"
   ]
  },
  {
   "cell_type": "code",
   "execution_count": null,
   "id": "d77e4f4b",
   "metadata": {},
   "outputs": [],
   "source": [
    "#16. What is the procedure for making a normal expression in regax case insensitive?\n",
    "\n",
    "Ans - 're.IGNORECASE'\n"
   ]
  },
  {
   "cell_type": "code",
   "execution_count": null,
   "id": "86b5c722",
   "metadata": {},
   "outputs": [],
   "source": [
    "#17. What does the . character normally match? What does it match if re.DOTALL is passed as 2nd argument in re.compile()?\n",
    "\n",
    "Ans - 'dot character matches everything in input except newline character.By passing re.DOTALL as the second argument in re. compile() ,we can make the dot character match all characters,including the newline character.\n",
    "'\n",
    "\n"
   ]
  },
  {
   "cell_type": "code",
   "execution_count": null,
   "id": "9f50b424",
   "metadata": {},
   "outputs": [],
   "source": [
    "#18. If numReg = re.compile(r'\\d+'), what will numRegex.sub('X', '11 drummers, 10 pipers, five rings, 4hen') return?\n",
    "\n",
    "Ans - 'X drummers, X pipers, five rings, X hen'\n"
   ]
  },
  {
   "cell_type": "code",
   "execution_count": null,
   "id": "e50ae741",
   "metadata": {},
   "outputs": [],
   "source": [
    "#19. What does passing re.VERBOSE as the 2nd argument to re.compile() allow to do?\n",
    "\n",
    "Ans - 'it will allow to add whitespace and comments to string passed to re.compile().'\n"
   ]
  },
  {
   "cell_type": "code",
   "execution_count": null,
   "id": "35656ed4",
   "metadata": {},
   "outputs": [],
   "source": [
    "#20. How would you write a regex that match a number with comma for every three digits? It must match the given following:\n",
    "#'42'\n",
    "#'1,234'\n",
    "#'6,368,745'\n",
    "#but not the following:\n",
    "#'12,34,567' (which has only two digits between the commas)\n",
    "#'1234' (which lacks commas)\n",
    "\n",
    "\n",
    "Ans - 're.compile(r'^\\d{1,3}(,\\d{3})*$')\n",
    "'\n",
    "\n",
    "\n"
   ]
  },
  {
   "cell_type": "code",
   "execution_count": null,
   "id": "bb852a5a",
   "metadata": {},
   "outputs": [],
   "source": [
    "#21. How would you write a regex that matches the full name of someone whose last name is Watanabe? You can assume that the first name that comes before it will always be one word that begins with a capital letter. The regex must match the following:\n",
    "#'Haruto Watanabe'\n",
    "#'Alice Watanabe'\n",
    "#'RoboCop Watanabe'\n",
    "#but not the following:\n",
    "#'haruto Watanabe' (where the first name is not capitalized)\n",
    "#'Mr. Watanabe' (where the preceding word has a nonletter character)\n",
    "#'Watanabe' (which has no first name)\n",
    "#'Haruto watanabe' (where Watanabe is not capitalized)\n",
    "\n",
    "Ans - 're.compile(r'[A-Z][a-z]*\\sNakamoto')'\n"
   ]
  },
  {
   "cell_type": "code",
   "execution_count": null,
   "id": "82286856",
   "metadata": {},
   "outputs": [],
   "source": [
    "#22. How would you write a regex that matches a sentence where the first word is either Alice, Bob,or Carol; the second word is either eats, pets, or throws; the third word is apples, cats, or baseballs; and the sentence ends with a period? This regex should be case-insensitive. It must match the following:\n",
    "#'Alice eats apples.'\n",
    "#'Bob pets cats.'\n",
    "#'Carol throws baseballs.'\n",
    "#'Alice throws Apples.'\n",
    "#'BOB EATS CATS.'\n",
    "#but not the following:\n",
    "#'RoboCop eats apples.'\n",
    "#'ALICE THROWS FOOTBALLS.'\n",
    "#'Carol eats 7 cats.'\n",
    "\n",
    "\n",
    "\n",
    "Ans - 're.compile(r'(Alice|Bob|Carol)\\s(eats|pets|throws)\\s(apples|cats|baseballs)\\.', re.IGNORECASE)'\n",
    "\n",
    "\n"
   ]
  }
 ],
 "metadata": {
  "kernelspec": {
   "display_name": "Python 3 (ipykernel)",
   "language": "python",
   "name": "python3"
  },
  "language_info": {
   "codemirror_mode": {
    "name": "ipython",
    "version": 3
   },
   "file_extension": ".py",
   "mimetype": "text/x-python",
   "name": "python",
   "nbconvert_exporter": "python",
   "pygments_lexer": "ipython3",
   "version": "3.9.7"
  }
 },
 "nbformat": 4,
 "nbformat_minor": 5
}
