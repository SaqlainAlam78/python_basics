{
 "cells": [
  {
   "cell_type": "markdown",
   "id": "8f9a6399",
   "metadata": {},
   "source": [
    "<span style=\"color: red;\">1. In what modes should the PdfFileReader() and PdfFileWriter() File objects will be opened?</span>\n",
    "\n",
    "Ans: For PdfFileReader() file objects should be opened in rb -> read binary mode,\n",
    "     For PdfFileWriter() file objects should be opened in wb -> write binary mode.\n"
   ]
  },
  {
   "cell_type": "markdown",
   "id": "1f75815b",
   "metadata": {},
   "source": [
    "<span style=\"color: red;\">2. From a PdfFileReader object, how do you get a Page object for page 5?\n",
    "</span>\n",
    "\n",
    "Ans: use getpage(5) method.\n",
    "\n"
   ]
  },
  {
   "cell_type": "markdown",
   "id": "8ba341b5",
   "metadata": {},
   "source": [
    "<span style=\"color: red;\">3. What PdfFileReader variable stores the number of pages in the PDF document?</span>\n",
    "\n",
    "Ans: getNumPages() method of PdfFileReader class stores the no pages in a PDF document"
   ]
  },
  {
   "cell_type": "markdown",
   "id": "5282c402",
   "metadata": {},
   "source": [
    "<span style=\"color: red;\">4. If a PdfFileReader object’s PDF is encrypted with the password swordfish, what must you do before you can obtain Page objects from it?</span>\n",
    "\n",
    "\n",
    "Ans : step 1 - load pdf [ PyPDF2.PdfFileReader(open('encrypted.pdf', 'rb')) ] \n",
    "step 2 - check weather it is encrypted [ pdf.isEncrypted ] \n",
    "step 3 - if encrypted use [ pdf.decrypt('swordfish') ] "
   ]
  },
  {
   "cell_type": "markdown",
   "id": "e1c49755",
   "metadata": {},
   "source": [
    "<span style=\"color: red;\">5. What methods do you use to rotate a page?</span>\n",
    "\n",
    "\n",
    "\n",
    "Ans : For anticlockwise: rotateCounterClockwise() \n",
    "      For clockwise    : rotateClockwise()"
   ]
  },
  {
   "cell_type": "markdown",
   "id": "180a2aef",
   "metadata": {},
   "source": [
    "<span style=\"color: red;\">6. What is the difference between a Run object and a Paragraph object?</span>\n",
    "\n",
    "Ans: The structure of a document is represented by three different data types in python-Docx. At the highest level, a Document object represents the entire document. The Document object contains a list of Paragraph objects for the paragraphs in the document. (A new paragraph begins whenever the user presses ENTER or RETURN while typing in a Word document.) Each of these Paragraph objects contains a list of one or more Run objects.\n",
    "\n",
    "The text in a Word document is more than just a string. It has font, size, color, and other styling information associated with it. A style in Word is a collection of these attributes. A Run object is a contiguous run of text with the same style. A new Run object is needed whenever the text style changes."
   ]
  },
  {
   "cell_type": "code",
   "execution_count": null,
   "id": "56bcb5b2",
   "metadata": {},
   "outputs": [],
   "source": [
    "#7. How do you obtain a list of Paragraph objects for a Document object that’s stored in a variable named doc?\n",
    "\n",
    "#Example Program\n",
    "from docx import Document\n",
    "doc = Document(\"sample_file.docx\") # Path of the Docx file\n",
    "print(doc.paragraphs) # Prints the list of Paragraph objects for a Document\n",
    "for paragraph in doc.paragraphs:\n",
    "    print(paragraph.text) # Prints the text in the paragraph"
   ]
  },
  {
   "cell_type": "markdown",
   "id": "8d35e417",
   "metadata": {},
   "source": [
    "<span style=\"color: red;\">8. What type of object has bold, underline, italic, strike, and outline variables?</span>\n",
    "\n",
    "Ans : Run Object"
   ]
  },
  {
   "cell_type": "markdown",
   "id": "854011e7",
   "metadata": {},
   "source": [
    "<span style=\"color: red;\">9. What is the difference between False, True, and None for the bold variable?</span>\n"
   ]
  },
  {
   "cell_type": "markdown",
   "id": "51db8c24",
   "metadata": {},
   "source": [
    "Ans:\n",
    "bold = True  # Style Set to Bold\n",
    "bold = False # Style Not Set to Bold\n",
    "bold = None # Style is Not Applicable"
   ]
  },
  {
   "cell_type": "markdown",
   "id": "56d5b2c2",
   "metadata": {},
   "source": [
    "<span style=\"color: red;\">10. How do you create a Document object for a new Word document?</span>"
   ]
  },
  {
   "cell_type": "code",
   "execution_count": null,
   "id": "1e29e1fe",
   "metadata": {},
   "outputs": [],
   "source": [
    "#Example Program\n",
    "from docx import Document\n",
    "document = Document()\n",
    "document.add_paragraph(\"iNeuron Full Stack DataScience Course\")\n",
    "document.save('mydocument.docx')"
   ]
  },
  {
   "cell_type": "markdown",
   "id": "f7f8cf25",
   "metadata": {},
   "source": [
    "<span style=\"color: red;\">11. How do you add a paragraph with the text 'Hello, there!' to a Document object stored in a variable named doc?</span>"
   ]
  },
  {
   "cell_type": "code",
   "execution_count": null,
   "id": "a121852b",
   "metadata": {},
   "outputs": [],
   "source": [
    "doc = docx.Document()\n",
    "doc.add_paragraph('Hello,there!')\n",
    "doc.save('hellothere.docx')"
   ]
  },
  {
   "cell_type": "markdown",
   "id": "2c6f376c",
   "metadata": {},
   "source": [
    "<span style=\"color: red;\">12. What integers represent the levels of headings available in Word documents?</span>\n",
    "\n",
    "Ans : integers 1 to 4 are for various heading levels where 1 is main heading and 4 the lowest subheading."
   ]
  }
 ],
 "metadata": {
  "kernelspec": {
   "display_name": "Python 3 (ipykernel)",
   "language": "python",
   "name": "python3"
  },
  "language_info": {
   "codemirror_mode": {
    "name": "ipython",
    "version": 3
   },
   "file_extension": ".py",
   "mimetype": "text/x-python",
   "name": "python",
   "nbconvert_exporter": "python",
   "pygments_lexer": "ipython3",
   "version": "3.9.7"
  }
 },
 "nbformat": 4,
 "nbformat_minor": 5
}
