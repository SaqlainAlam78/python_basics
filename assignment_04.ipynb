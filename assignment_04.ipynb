{
 "cells": [
  {
   "cell_type": "code",
   "execution_count": null,
   "id": "47ee98c0",
   "metadata": {},
   "outputs": [],
   "source": [
    "#1. What exactly is []?\n",
    "\n",
    "'''Ans- It is an empty list that contains no items'''\n"
   ]
  },
  {
   "cell_type": "code",
   "execution_count": 1,
   "id": "e3c3dd05",
   "metadata": {},
   "outputs": [],
   "source": [
    "#2. In a list of values stored in a variable called spam, how would you assign the value 'hello' as the\n",
    "#third value? (Assume [2, 4, 6, 8, 10] are in spam.)\n",
    "\n",
    "spam = [2, 4, 6, 8, 10]\n",
    "\n",
    "spam.insert(3,'Hello')\n",
    "\n",
    "\n",
    "spam"
   ]
  },
  {
   "cell_type": "code",
   "execution_count": 5,
   "id": "a36d4e93",
   "metadata": {},
   "outputs": [],
   "source": [
    "#Let's pretend that spam includes the list ['a' , 'b' , 'c' , 'd'] for the next three queries\n",
    "\n",
    "spam =  ['a' , 'b' , 'c' , 'd']\n"
   ]
  },
  {
   "cell_type": "code",
   "execution_count": null,
   "id": "4144e252",
   "metadata": {},
   "outputs": [],
   "source": [
    "#3. What is the value of spam[int(int('3' * 2)/11]?\n",
    "\n",
    "\n",
    "''' Ans : There will be a TypeError: list indices must be integers or slices, not float\n",
    "'''\n",
    "\n"
   ]
  },
  {
   "cell_type": "code",
   "execution_count": null,
   "id": "0057993a",
   "metadata": {},
   "outputs": [],
   "source": [
    "#4. What is the value of spam[-1]?\n",
    "\n",
    "'''Ans : 'd'\n",
    "'''\n"
   ]
  },
  {
   "cell_type": "code",
   "execution_count": null,
   "id": "2737b463",
   "metadata": {},
   "outputs": [],
   "source": [
    "#5. What is the value of spam[:2]?\n",
    "\n",
    "'''Ans : ['a', 'b']\n",
    "'''\n",
    "\n",
    "\n"
   ]
  },
  {
   "cell_type": "code",
   "execution_count": 6,
   "id": "054e215d",
   "metadata": {},
   "outputs": [],
   "source": [
    "#Let's pretend bacon has the list [3.14 ,'cat' ,11, 'cat' ,True] for the next three questions.\n",
    "\n",
    "bacon = [3.14 ,'cat' ,11, 'cat' ,True]"
   ]
  },
  {
   "cell_type": "code",
   "execution_count": null,
   "id": "96a94dda",
   "metadata": {},
   "outputs": [],
   "source": [
    "#6. What is the value of bacon.index('cat')?\n",
    "\n",
    "'''Ans : 1\n",
    "'''\n",
    "\n"
   ]
  },
  {
   "cell_type": "code",
   "execution_count": null,
   "id": "8b1dc43c",
   "metadata": {},
   "outputs": [],
   "source": [
    "#7. How does bacon.append(99) change the look of the list value in bacon?\n",
    "\n",
    "'''Ans :[3.14, 'cat', 11, 'cat', True, 99]\n",
    "'''\n"
   ]
  },
  {
   "cell_type": "code",
   "execution_count": null,
   "id": "41c97282",
   "metadata": {},
   "outputs": [],
   "source": [
    "#8. How does bacon.remove('cat') change the look of the list in bacon?\n",
    "\n",
    "'''Ans : [3.14, 11, 'cat', True, 99]\n",
    "'''\n"
   ]
  },
  {
   "cell_type": "code",
   "execution_count": null,
   "id": "b89a8b4f",
   "metadata": {},
   "outputs": [],
   "source": [
    "#9. What are the list concatenation and list replication operators?\n",
    "\n",
    "'''\n",
    "Ans :list concatenation - Concatenation of lists is an operation where the elements of one list are added at the end of another list. For example, if we have a list1 with elements [1, 2, 3] and another list2 with elements [4, 5, 6] .\n",
    "                          so list1+list2 = [1,2,3,4,5,6]\n",
    "                          \n",
    "                          \n",
    "     list replication operators - Replication operator(*) is used to replicate the list, For example, if we have a list with elements [1, 2, 3]\n",
    "                          so list1*2 = [1, 2, 3, 1, 2, 3]                   \n",
    "                          \n",
    "'''\n",
    "\n",
    "\n"
   ]
  },
  {
   "cell_type": "code",
   "execution_count": null,
   "id": "5847ee8a",
   "metadata": {},
   "outputs": [],
   "source": [
    "#10. What is difference between the list methods append() and insert()?\n",
    "\n",
    "\n",
    "'''Ans : append() - syntax-append(x) :Adds an element x to the end of the list\n",
    "                    eg : list1 = [1, 2, 4, 6, 9, 10]\n",
    "                         list1.append(12)\n",
    "                         list1\n",
    "                         [1, 2, 4, 6, 9, 10, 12]\n",
    "\n",
    "\n",
    "         insert() - insert(index: int, x): Inserts an element x at a given index\n",
    "                    eg : list1.insert(1, 15)\n",
    "                         list1\n",
    "                         [1, 15, 2, 4, 6, 9, 10]\n"
   ]
  },
  {
   "cell_type": "code",
   "execution_count": null,
   "id": "0024dd0d",
   "metadata": {},
   "outputs": [],
   "source": [
    "#11. What are the two methods for removing items from a list?\n",
    "\n",
    "'''Ans : .pop() and .remove()\n",
    "'''\n",
    "\n"
   ]
  },
  {
   "cell_type": "code",
   "execution_count": null,
   "id": "9afc773c",
   "metadata": {},
   "outputs": [],
   "source": [
    "#12. Describe how list values and string values are identical.\n",
    "\n",
    "'''Ans : list values and string values are identical since both are sequences and have some common built in function.\n",
    "'''\n"
   ]
  },
  {
   "cell_type": "code",
   "execution_count": null,
   "id": "17fe51fb",
   "metadata": {},
   "outputs": [],
   "source": [
    "#13. What is the difference between tuples and lists?\n",
    "\n",
    "'''Ans : list is denoted by [] ,they are mutable ,have several built in function .\n",
    "         tuples is denoted by (), they are immutable ,does no have many built in function.\n",
    "'''"
   ]
  },
  {
   "cell_type": "code",
   "execution_count": null,
   "id": "28ceb4ab",
   "metadata": {},
   "outputs": [],
   "source": [
    "#14. How do you type a tuple value that only contains the integer 42?\n",
    "\n",
    "'''Ans : t=(42,)\n",
    "         type(t)\n",
    "         tuple\n",
    "'''"
   ]
  },
  {
   "cell_type": "code",
   "execution_count": null,
   "id": "4621fccd",
   "metadata": {},
   "outputs": [],
   "source": [
    "#15. How do you get a list value's tuple form? How do you get a tuple value's list form?\n",
    "\n",
    "'''Ans : list to tuple - l = [1,45,5,6]\n",
    "\n",
    "                         type(tuple(l))\n",
    "                         \n",
    "                         tuple\n",
    "\n",
    "         tuple to list - t = (1,54,6,5)\n",
    "\n",
    "                         type(list(t))\n",
    "                         \n",
    "                         list\n",
    "\n",
    "'''\n",
    "\n",
    "\n"
   ]
  },
  {
   "cell_type": "code",
   "execution_count": null,
   "id": "fb4a3460",
   "metadata": {},
   "outputs": [],
   "source": [
    "#16. Variables that 'contain' list values are not necessarily lists themselves. Instead, what do they\n",
    "#contain?\n",
    "\n",
    "\n",
    "'''Ans : Instead they act as a container which contains reference to list values\n",
    "'''\n",
    "\n",
    "\n",
    "\n"
   ]
  },
  {
   "cell_type": "code",
   "execution_count": null,
   "id": "b26fbbcc",
   "metadata": {},
   "outputs": [],
   "source": [
    "#17. How do you distinguish between copy.copy() and copy.deepcopy()?\n",
    "\n",
    "'''Ans : copy() create reference to original object. If you change copied object you change the original object.\n",
    "\n",
    "         deepcopy() creates new object and does real copying of original object to new one. Changing new deepcopied object doesn't affect original object.\n",
    "\n",
    "\n",
    "\n"
   ]
  }
 ],
 "metadata": {
  "kernelspec": {
   "display_name": "Python 3 (ipykernel)",
   "language": "python",
   "name": "python3"
  },
  "language_info": {
   "codemirror_mode": {
    "name": "ipython",
    "version": 3
   },
   "file_extension": ".py",
   "mimetype": "text/x-python",
   "name": "python",
   "nbconvert_exporter": "python",
   "pygments_lexer": "ipython3",
   "version": "3.9.7"
  }
 },
 "nbformat": 4,
 "nbformat_minor": 5
}
