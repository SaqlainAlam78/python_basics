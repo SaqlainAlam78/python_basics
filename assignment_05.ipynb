{
 "cells": [
  {
   "cell_type": "code",
   "execution_count": null,
   "id": "de778e6f",
   "metadata": {},
   "outputs": [],
   "source": [
    "#1. What does an empty dictionary's code look like?\n",
    "\n",
    "'''Ans d = {}\n",
    "          \n",
    "'''"
   ]
  },
  {
   "cell_type": "code",
   "execution_count": null,
   "id": "3d22cdb3",
   "metadata": {},
   "outputs": [],
   "source": [
    "#2. What is the value of a dictionary value with the key 'foo' and the value 42?\n",
    "\n",
    "'''Ans 42\n",
    " \n",
    "'''\n"
   ]
  },
  {
   "cell_type": "code",
   "execution_count": null,
   "id": "506a427d",
   "metadata": {},
   "outputs": [],
   "source": [
    "#3. What is the most significant distinction between a dictionary and a list?\n",
    "\n",
    "'''Ans : A list is an ordered sequence of objects, whereas dictionaries are unordered sets.\n",
    "'''\n",
    "\n",
    "\n"
   ]
  },
  {
   "cell_type": "code",
   "execution_count": null,
   "id": "cb1e91cd",
   "metadata": {},
   "outputs": [],
   "source": [
    "#4. What happens if you try to access spam'foo' if spam is {'bar': 100}?\n",
    "\n",
    "'''Ans : we get a key error\n",
    "\n",
    "'''\n",
    "\n"
   ]
  },
  {
   "cell_type": "code",
   "execution_count": null,
   "id": "2f366f37",
   "metadata": {},
   "outputs": [],
   "source": [
    "#5. If a dictionary is stored in spam, what is the difference between the expressions 'cat' in spam and\n",
    "#'cat' in spam.keys()?\n",
    "\n",
    "'''Ans : 'cat' in spam.keys() checks whether 'cat' is present in keys or not whereas the expressions 'cat' in spam simply holds cat in spam.\n",
    "'''\n",
    "\n",
    "\n",
    "\n",
    "\n",
    "\n"
   ]
  },
  {
   "cell_type": "code",
   "execution_count": null,
   "id": "6796c969",
   "metadata": {},
   "outputs": [],
   "source": [
    "#6. If a dictionary is stored in spam, what is the difference between the expressions 'cat' in spam and\n",
    "#'cat' in spam.values()?\n",
    "\n",
    "'''Ans :'cat' in spam.keys() checks whether 'cat' is present in values or not whereas the expressions 'cat' in spam simply holds cat in spam.\n",
    "\n",
    "'''\n"
   ]
  },
  {
   "cell_type": "code",
   "execution_count": null,
   "id": "4d4727c4",
   "metadata": {},
   "outputs": [],
   "source": [
    "#7. What is a shortcut for the following code?\n",
    "#if 'color' not in spam:\n",
    "#spam['color'] = 'black';\n",
    "\n",
    "\n",
    "'''\n",
    "Ans : spam.setdefault('color', 'black')\n",
    "\n",
    "'''\n",
    "\n",
    "\n"
   ]
  },
  {
   "cell_type": "code",
   "execution_count": null,
   "id": "0cf525e9",
   "metadata": {},
   "outputs": [],
   "source": [
    "#8. How do you &quot;pretty print&quot; dictionary values using which module and function?\n",
    "\n",
    "'''\n",
    "Ans : module = pprint\n",
    "     function = pprint.pprint()\n",
    "\n",
    "'''\n"
   ]
  }
 ],
 "metadata": {
  "kernelspec": {
   "display_name": "Python 3 (ipykernel)",
   "language": "python",
   "name": "python3"
  },
  "language_info": {
   "codemirror_mode": {
    "name": "ipython",
    "version": 3
   },
   "file_extension": ".py",
   "mimetype": "text/x-python",
   "name": "python",
   "nbconvert_exporter": "python",
   "pygments_lexer": "ipython3",
   "version": "3.9.7"
  }
 },
 "nbformat": 4,
 "nbformat_minor": 5
}
