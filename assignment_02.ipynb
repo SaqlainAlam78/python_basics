{
 "cells": [
  {
   "cell_type": "code",
   "execution_count": null,
   "id": "fb80c2c7",
   "metadata": {},
   "outputs": [],
   "source": [
    "#1.What are the two values of the Boolean data type? How do you write them?\n",
    "\n",
    "''' Ans : Two values of the boolean data type are -\n",
    "            \n",
    "            1)True\n",
    "            2)False\n",
    "        \n",
    "        \n",
    "        We write them as true or false\n",
    "\n",
    "'''"
   ]
  },
  {
   "cell_type": "code",
   "execution_count": null,
   "id": "cd7fcd6c",
   "metadata": {},
   "outputs": [],
   "source": [
    "#2. What are the three different types of Boolean operators?\n",
    "\n",
    "'''\n",
    "Ans : AND, OR ,NOT\n",
    "\n",
    "'''\n"
   ]
  },
  {
   "cell_type": "code",
   "execution_count": null,
   "id": "9fb20e54",
   "metadata": {},
   "outputs": [],
   "source": [
    "#3. Make a list of each Boolean operator's truth tables (i.e. every possible combination of Boolean\n",
    "#values for the operator and what it evaluate ).\n",
    "\n",
    "\n",
    "\n",
    "\n",
    "'''\n",
    "\n",
    " a       b        a && b     a || b       !a\n",
    "\n",
    "true    true       true       true        false\n",
    "\n",
    "true    false      false      true        false\n",
    "\n",
    "false   true       false      true        true\n",
    "\n",
    "false   false      false      false       false\n",
    "\n",
    "&& - AND\n",
    "\n",
    "|| - OR \n",
    "\n",
    "! - NOT\n",
    "\n",
    "\n",
    "'''\n",
    "\n",
    "\n"
   ]
  },
  {
   "cell_type": "code",
   "execution_count": null,
   "id": "b91065a1",
   "metadata": {},
   "outputs": [],
   "source": [
    "'''\n",
    "4. What are the values of the following expressions?\n",
    "(5 > 4) and (3 == 5) - \n",
    "not (5 > 4)\n",
    "(5 > 4) or (3 == 5)\n",
    "not ((5 > 4) or (3 == 5))\n",
    "(True and True) and (True == False)\n",
    "(not False) or (not True)\n",
    "\n",
    "\n",
    "'''\n",
    "\n",
    "#Answers :\n",
    "\n",
    "'''\n",
    "False\n",
    "\n",
    "False\n",
    "\n",
    "True\n",
    "\n",
    "False \n",
    "\n",
    "False\n",
    "\n",
    "False\n",
    "\n",
    "'''\n",
    "\n"
   ]
  },
  {
   "cell_type": "code",
   "execution_count": null,
   "id": "4087cca8",
   "metadata": {},
   "outputs": [],
   "source": [
    "#5. What are the six comparison operators?\n",
    "\n",
    "'''\n",
    "Six Comparison operators are as follows :\n",
    "\n",
    "Less than ( < )\n",
    "Less than or equal to (<=)\n",
    "Greater than (>)\n",
    "Greater than or equal to (>=)\n",
    "Equal to ( == )\n",
    "Not equal to ( != )\n",
    "\n",
    "\n",
    "\n",
    "'''"
   ]
  },
  {
   "cell_type": "code",
   "execution_count": 6,
   "id": "00e0fa2d",
   "metadata": {},
   "outputs": [
    {
     "name": "stdout",
     "output_type": "stream",
     "text": [
      "True\n"
     ]
    }
   ],
   "source": [
    "#6. How do you tell the difference between the equal to and assignment operators?Describe a\n",
    "#condition and when you would use one.\n",
    "\n",
    "\n",
    "# Assignment operator - is used to assign a particular value to a variable.\n",
    "# Equal to operator - is used to compare the assigned values.\n",
    "\n",
    "#Below is the example  :\n",
    "\n",
    "a = 5    #assignment operator(used when we simply need to assign a value to a variable without producing result)\n",
    "\n",
    "\n",
    "a\n",
    "\n",
    "if a == 5 :     #equal to operator(used to compare values and yield results)\n",
    "    print(\"True\")"
   ]
  },
  {
   "cell_type": "code",
   "execution_count": 7,
   "id": "4409378b",
   "metadata": {},
   "outputs": [],
   "source": [
    "'''\n",
    "7. Identify the three blocks in this code:\n",
    "spam = 0\n",
    "if spam == 10:\n",
    "print('eggs')\n",
    "if spam < 5:\n",
    "print('bacon')\n",
    "else:\n",
    "print('ham')\n",
    "print('spam')\n",
    "print('spam')\n",
    "\n",
    "'''\n",
    "\n",
    "#Answer\n",
    "\n",
    "spam = 0\n",
    "\n",
    "if spam == 10:\n",
    "    \n",
    "    print('eggs')\n",
    "    \n",
    "    if spam < 5:\n",
    "        \n",
    "        print('bacon')\n",
    "    else:\n",
    "        \n",
    "        print('ham')\n",
    "        print('spam')\n",
    "        print('spam')\n",
    "\n",
    "\n"
   ]
  },
  {
   "cell_type": "code",
   "execution_count": 23,
   "id": "5a7e1330",
   "metadata": {},
   "outputs": [
    {
     "name": "stdout",
     "output_type": "stream",
     "text": [
      "Enter your number 3\n",
      "Greetings\n"
     ]
    }
   ],
   "source": [
    "#8. Write code that prints Hello if 1 is stored in spam, prints Howdy if 2 is stored in spam, and prints\n",
    "#Greetings! if anything else is stored in spam.\n",
    "\n",
    "spam = int(input(\"Enter your number \"))\n",
    "\n",
    "if spam == 1 :\n",
    "    \n",
    "    print(\"Hello\")\n",
    "    \n",
    "elif spam == 2 :\n",
    "        \n",
    "    print (\"Howdy\")\n",
    "        \n",
    "else :\n",
    "    print(\"Greetings\")\n",
    "\n",
    "\n",
    "\n",
    "\n",
    "\n",
    "\n",
    "\n",
    "\n",
    "\n"
   ]
  },
  {
   "cell_type": "code",
   "execution_count": null,
   "id": "e0075915",
   "metadata": {},
   "outputs": [],
   "source": [
    "#9.If your programme is stuck in an endless loop, what keys you’ll press?\n",
    "\n",
    "'''Ans - Ctrl + c can be used to exit out of an infinite loop or we can use break keyword as well'''\n",
    "\n"
   ]
  },
  {
   "cell_type": "code",
   "execution_count": null,
   "id": "93e50053",
   "metadata": {},
   "outputs": [],
   "source": [
    "#10. How can you tell the difference between break and continue?\n",
    "\n",
    "'''\n",
    "\n",
    "Break keyword - It is used when we need to stop the execution of the current loop and pass the control to the next loop.\n",
    "\n",
    "Continue keyword - It is used when we need to skip the current iteration and run the very next iteration .\n",
    "\n",
    "\n",
    "'''\n"
   ]
  },
  {
   "cell_type": "code",
   "execution_count": null,
   "id": "01b25c41",
   "metadata": {},
   "outputs": [],
   "source": [
    "#11. In a for loop, what is the difference between range(10), range(0, 10), and range(0, 10, 1)?\n",
    "\n",
    "'''No difference it is the same'''\n"
   ]
  },
  {
   "cell_type": "code",
   "execution_count": 24,
   "id": "87b3afd3",
   "metadata": {},
   "outputs": [
    {
     "name": "stdout",
     "output_type": "stream",
     "text": [
      "1\n",
      "2\n",
      "3\n",
      "4\n",
      "5\n",
      "6\n",
      "7\n",
      "8\n",
      "9\n",
      "10\n"
     ]
    }
   ],
   "source": [
    "\n",
    "\n",
    "#12. Write a short program that prints the numbers 1 to 10 using a for loop. Then write an equivalent\n",
    "#program that prints the numbers 1 to 10 using a while loop.\n",
    "\n",
    "#for loop :\n",
    "\n",
    "for i in range(1,11) :\n",
    "    \n",
    "    print(i)\n",
    "\n",
    "#while loop :\n",
    "\n",
    "i = 1 \n",
    "\n",
    "while i <=10 :\n",
    "    print(i)\n",
    "    i+=1\n",
    "\n"
   ]
  },
  {
   "cell_type": "code",
   "execution_count": 29,
   "id": "e651a9e2",
   "metadata": {},
   "outputs": [
    {
     "data": {
      "text/plain": [
       "'This function can be called with spam.bacon().'"
      ]
     },
     "execution_count": 29,
     "metadata": {},
     "output_type": "execute_result"
    }
   ],
   "source": [
    "#13. If you had a function named bacon() inside a module named spam, how would you call it after\n",
    "#importing spam?\n",
    "\n",
    "\"\"\"This function can be called with spam.bacon().\"\"\"\n",
    "\n"
   ]
  },
  {
   "cell_type": "code",
   "execution_count": null,
   "id": "e67a7bfc",
   "metadata": {},
   "outputs": [],
   "source": []
  },
  {
   "cell_type": "code",
   "execution_count": null,
   "id": "b91ec40c",
   "metadata": {},
   "outputs": [],
   "source": []
  },
  {
   "cell_type": "code",
   "execution_count": null,
   "id": "f1dee25b",
   "metadata": {},
   "outputs": [],
   "source": []
  }
 ],
 "metadata": {
  "kernelspec": {
   "display_name": "Python 3 (ipykernel)",
   "language": "python",
   "name": "python3"
  },
  "language_info": {
   "codemirror_mode": {
    "name": "ipython",
    "version": 3
   },
   "file_extension": ".py",
   "mimetype": "text/x-python",
   "name": "python",
   "nbconvert_exporter": "python",
   "pygments_lexer": "ipython3",
   "version": "3.9.7"
  }
 },
 "nbformat": 4,
 "nbformat_minor": 5
}
