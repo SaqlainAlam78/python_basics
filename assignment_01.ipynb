{
 "cells": [
  {
   "cell_type": "code",
   "execution_count": null,
   "id": "0867749f",
   "metadata": {},
   "outputs": [],
   "source": [
    "\"\"\"1. In the below elements which of them are values or an expression? eg:- values can be\n",
    "integer or string and expressions will be mathematical operators.\n",
    "\n",
    "*\n",
    "&#39;hello&#39;\n",
    "-87.8\n",
    "-\n",
    "/\n",
    "+\n",
    "6\"\"\"\n",
    "\n",
    "\n",
    "\"\"\"Ans 1- Values : -87.8 , 6\"\"\" \n",
    "\n",
    "          Expressions : * , - ,/ ,+ , &#39;hello&#39;\n",
    "\n",
    "\n",
    "\"\"\"\n",
    "\n",
    "\n",
    "\n",
    "\n",
    "\n"
   ]
  },
  {
   "cell_type": "code",
   "execution_count": 3,
   "id": "2afb9a65",
   "metadata": {},
   "outputs": [
    {
     "data": {
      "text/plain": [
       "' Variable - It is a symbolic name that is a reference or pointer to an object '"
      ]
     },
     "execution_count": 3,
     "metadata": {},
     "output_type": "execute_result"
    }
   ],
   "source": [
    "#2. What is the difference between string and variable?\n",
    "\n",
    "''' String -  A string is a sequence of characters, either as a literal constant or as some kind of variable.'''\n",
    "\n",
    "\n",
    "''' Variable - It is a name used as a reference or pointer to an object '''\n",
    "\n",
    "\n",
    "\n",
    "\n"
   ]
  },
  {
   "cell_type": "code",
   "execution_count": null,
   "id": "f5f969d9",
   "metadata": {},
   "outputs": [],
   "source": [
    "#3. Describe three different data types.\n",
    "\n",
    "'''\n",
    "1)Integers : represent numbers in Python. These can be both positive and negative values .eg 5,-15 ,2 3649\n",
    "\n",
    "2)Floats : representing numbers in Python and exist as either positive or negative decimal values. eg 5.85,-1551.36 ,2.3649\n",
    "\n",
    "3) Boolean : Boolean is mainly used for checking whether the logic of an expression or comparison is true or not. eg True,false\n",
    "\n",
    "\n",
    "'''\n"
   ]
  },
  {
   "cell_type": "code",
   "execution_count": null,
   "id": "c89d2c4d",
   "metadata": {},
   "outputs": [],
   "source": [
    "#4. What is an expression made up of? What do all expressions do?\n",
    "\n",
    "'''An expression is a combination of operators and operands that is interpreted to produce some meaningful results'''\n",
    "\n",
    "\n",
    "\n"
   ]
  },
  {
   "cell_type": "code",
   "execution_count": null,
   "id": "28a1efe6",
   "metadata": {},
   "outputs": [],
   "source": [
    "#5. This assignment statements, like spam = 10. What is the difference between an\n",
    "#expression and a statement?\n",
    "\n",
    "'''\n",
    "\n",
    "Expression                                                                                Statement\n",
    "An expression evaluates to a value                                           A statement executes something\n",
    "\n",
    "Evaluation of an expression always Produces or returns a result value.       Execution of a statement may or may not produces or displays a result value, it only does whatever the statement says.\n",
    "\n",
    "\n",
    "'''\n",
    "\n"
   ]
  },
  {
   "cell_type": "code",
   "execution_count": null,
   "id": "fe3495df",
   "metadata": {},
   "outputs": [],
   "source": [
    "#6. After running the following code, what does the variable bacon contain?\n",
    "#bacon = 22\n",
    "#bacon + 1\n",
    "\n",
    "\n",
    "\"Ans : 23\""
   ]
  },
  {
   "cell_type": "code",
   "execution_count": null,
   "id": "847c202d",
   "metadata": {},
   "outputs": [],
   "source": [
    "#7. What should the values of the following two terms be?\n",
    "#'spam' + 'spamspam'\n",
    "\n",
    "#'spam'  * 3\n",
    "\n",
    "'''Ans : 'spamspamspam' '''\n",
    "\n"
   ]
  },
  {
   "cell_type": "code",
   "execution_count": null,
   "id": "93adbd5c",
   "metadata": {},
   "outputs": [],
   "source": [
    "#8.Why is eggs a valid variable name while 100 is invalid?\n",
    "\n",
    "\n",
    "'''Ans : \n",
    "\n",
    "Because variable name cannot start with numbers\n",
    "\n",
    "\n",
    "'''\n",
    "\n"
   ]
  },
  {
   "cell_type": "code",
   "execution_count": null,
   "id": "d3386a80",
   "metadata": {},
   "outputs": [],
   "source": []
  },
  {
   "cell_type": "code",
   "execution_count": null,
   "id": "428dba88",
   "metadata": {},
   "outputs": [],
   "source": []
  }
 ],
 "metadata": {
  "kernelspec": {
   "display_name": "Python 3 (ipykernel)",
   "language": "python",
   "name": "python3"
  },
  "language_info": {
   "codemirror_mode": {
    "name": "ipython",
    "version": 3
   },
   "file_extension": ".py",
   "mimetype": "text/x-python",
   "name": "python",
   "nbconvert_exporter": "python",
   "pygments_lexer": "ipython3",
   "version": "3.9.7"
  }
 },
 "nbformat": 4,
 "nbformat_minor": 5
}
