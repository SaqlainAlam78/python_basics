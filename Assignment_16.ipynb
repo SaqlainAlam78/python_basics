{
 "cells": [
  {
   "cell_type": "markdown",
   "id": "6792822b",
   "metadata": {},
   "source": [
    "<span style=\"color: red;\">1. Create a list called years_list, starting with the year of your birth, and each year thereafter until the year of your fifth birthday. For example, if you were born in 1980. the list would be years_list = [1980, 1981, 1982, 1983, 1984, 1985].</span>"
   ]
  },
  {
   "cell_type": "code",
   "execution_count": 1,
   "id": "9eca3412",
   "metadata": {},
   "outputs": [
    {
     "name": "stdout",
     "output_type": "stream",
     "text": [
      "Enter year of birth1997\n",
      "[1997, 1998, 1999, 2000, 2001, 2002]\n"
     ]
    }
   ],
   "source": [
    "yob = int(input(\"Enter year of birth\"))\n",
    "years_list = []\n",
    "if type(yob)==int:\n",
    "    for i in range(yob,yob+6):\n",
    "        years_list.append(i)\n",
    "print(years_list)"
   ]
  },
  {
   "cell_type": "markdown",
   "id": "c526bbb4",
   "metadata": {},
   "source": [
    "<span style=\"color: red;\">2. In which year in years_list was your third birthday? Remember, you were 0 years of age for your first year.</span>"
   ]
  },
  {
   "cell_type": "code",
   "execution_count": 2,
   "id": "bcb2aa23",
   "metadata": {},
   "outputs": [
    {
     "data": {
      "text/plain": [
       "2000"
      ]
     },
     "execution_count": 2,
     "metadata": {},
     "output_type": "execute_result"
    }
   ],
   "source": [
    "years_list[3]"
   ]
  },
  {
   "cell_type": "markdown",
   "id": "52724cda",
   "metadata": {},
   "source": [
    "<span style=\"color: red;\">3.In the years list, which year were you the oldest?</span>"
   ]
  },
  {
   "cell_type": "code",
   "execution_count": 4,
   "id": "0c564e44",
   "metadata": {},
   "outputs": [
    {
     "data": {
      "text/plain": [
       "2002"
      ]
     },
     "execution_count": 4,
     "metadata": {},
     "output_type": "execute_result"
    }
   ],
   "source": [
    "years_list[-1]"
   ]
  },
  {
   "cell_type": "markdown",
   "id": "eebc64fe",
   "metadata": {},
   "source": [
    "<span style=\"color: red;\">4. Make a list called things with these three strings as elements: \"mozzarella\", \"cinderella\", \"salmonella\".</span>"
   ]
  },
  {
   "cell_type": "code",
   "execution_count": 5,
   "id": "36ee01b8",
   "metadata": {},
   "outputs": [
    {
     "data": {
      "text/plain": [
       "['mozzarella', 'cinderella', 'salmonella']"
      ]
     },
     "execution_count": 5,
     "metadata": {},
     "output_type": "execute_result"
    }
   ],
   "source": [
    "things = [\"mozzarella\", \"cinderella\", \"salmonella\"]\n",
    "things"
   ]
  },
  {
   "cell_type": "markdown",
   "id": "87857a36",
   "metadata": {},
   "source": [
    "<span style=\"color: red;\">5. Capitalize the element in things that refers to a person and then print the list. Did it change the element in the list?</span>"
   ]
  },
  {
   "cell_type": "code",
   "execution_count": 6,
   "id": "a849643a",
   "metadata": {},
   "outputs": [
    {
     "data": {
      "text/plain": [
       "'Cinderella'"
      ]
     },
     "execution_count": 6,
     "metadata": {},
     "output_type": "execute_result"
    }
   ],
   "source": [
    "things[1].capitalize()"
   ]
  },
  {
   "cell_type": "code",
   "execution_count": 8,
   "id": "6e35256e",
   "metadata": {},
   "outputs": [
    {
     "data": {
      "text/plain": [
       "['mozzarella', 'cinderella', 'salmonella']"
      ]
     },
     "execution_count": 8,
     "metadata": {},
     "output_type": "execute_result"
    }
   ],
   "source": [
    "things"
   ]
  },
  {
   "cell_type": "code",
   "execution_count": 9,
   "id": "78dd91c1",
   "metadata": {},
   "outputs": [],
   "source": [
    "#no it did not changed the element in the list"
   ]
  },
  {
   "cell_type": "markdown",
   "id": "588cd2c8",
   "metadata": {},
   "source": [
    "<span style=\"color: red;\">6. Make a surprise list with the elements \"Groucho,\" \"Chico,\" and \"Harpo.\"</span>"
   ]
  },
  {
   "cell_type": "code",
   "execution_count": 19,
   "id": "b5fe41c5",
   "metadata": {},
   "outputs": [
    {
     "name": "stdout",
     "output_type": "stream",
     "text": [
      "['Groucho', 'Chico', 'Harpo']\n"
     ]
    }
   ],
   "source": [
    "surprise_list = [\"Groucho\" ,\"Chico\" ,\"Harpo\"]\n",
    "print(surprise_list)"
   ]
  },
  {
   "cell_type": "markdown",
   "id": "7952b723",
   "metadata": {},
   "source": [
    "<span style=\"color: red;\">7. Lowercase the last element of the surprise list, reverse it, and then capitalize it.</span>"
   ]
  },
  {
   "cell_type": "code",
   "execution_count": 22,
   "id": "f7af7ad8",
   "metadata": {},
   "outputs": [
    {
     "data": {
      "text/plain": [
       "['Groucho', 'Chico', 'Oprah']"
      ]
     },
     "execution_count": 22,
     "metadata": {},
     "output_type": "execute_result"
    }
   ],
   "source": [
    "surprise_1 = []\n",
    "for i in surprise_list:\n",
    "    if i!=surprise_list[-1]:\n",
    "        surprise_1.append(i)\n",
    "    else:\n",
    "        b = i.lower()\n",
    "        c = b[::-1]\n",
    "        d = c.capitalize()\n",
    "            \n",
    "        surprise_1.append(d)\n",
    "surprise_list=surprise_1\n",
    "surprise_list"
   ]
  },
  {
   "cell_type": "markdown",
   "id": "99526ed0",
   "metadata": {},
   "source": [
    "<span style=\"color: red;\">8. Make an English-to-French dictionary called e2f and print it. Here are your starter words: dog is chien, cat is chat, and walrus is morse.</span>"
   ]
  },
  {
   "cell_type": "code",
   "execution_count": 23,
   "id": "59c60d97",
   "metadata": {},
   "outputs": [
    {
     "name": "stdout",
     "output_type": "stream",
     "text": [
      "{'dog': 'chien', 'cat': 'chat', 'walrus': 'morse'}\n"
     ]
    }
   ],
   "source": [
    "e2f = {'dog':'chien','cat':'chat','walrus':'morse'}\n",
    "print(e2f)"
   ]
  },
  {
   "cell_type": "markdown",
   "id": "d2c0b42c",
   "metadata": {},
   "source": [
    "<span style=\"color: red;\">9. Write the French word for walrus in your three-word dictionary e2f.</span>"
   ]
  },
  {
   "cell_type": "code",
   "execution_count": 26,
   "id": "fa730961",
   "metadata": {},
   "outputs": [
    {
     "data": {
      "text/plain": [
       "'morse'"
      ]
     },
     "execution_count": 26,
     "metadata": {},
     "output_type": "execute_result"
    }
   ],
   "source": [
    "e2f.get(\"walrus\")"
   ]
  },
  {
   "cell_type": "markdown",
   "id": "3afe0e9f",
   "metadata": {},
   "source": [
    "<span style=\"color: red;\">10. Make a French-to-English dictionary called f2e from e2f. Use the items method.</span>"
   ]
  },
  {
   "cell_type": "code",
   "execution_count": 27,
   "id": "77337d99",
   "metadata": {},
   "outputs": [
    {
     "name": "stdout",
     "output_type": "stream",
     "text": [
      "{'chien': 'dog', 'chat': 'cat', 'morse': 'walrus'}\n"
     ]
    }
   ],
   "source": [
    "f2e = dict([ele[::-1] for ele in e2f.items()])\n",
    "print(f2e)"
   ]
  },
  {
   "cell_type": "markdown",
   "id": "d4f65763",
   "metadata": {},
   "source": [
    "<span style=\"color: red;\">11. Print the English version of the French word chien using f2e.</span>"
   ]
  },
  {
   "cell_type": "code",
   "execution_count": 29,
   "id": "201ed6ef",
   "metadata": {},
   "outputs": [
    {
     "data": {
      "text/plain": [
       "'dog'"
      ]
     },
     "execution_count": 29,
     "metadata": {},
     "output_type": "execute_result"
    }
   ],
   "source": [
    "f2e.get(\"chien\")"
   ]
  },
  {
   "cell_type": "markdown",
   "id": "72b4c035",
   "metadata": {},
   "source": [
    "<span style=\"color: red;\">12. Make and print a set of English words from the keys in e2f.</span>"
   ]
  },
  {
   "cell_type": "code",
   "execution_count": 32,
   "id": "e049eca1",
   "metadata": {},
   "outputs": [
    {
     "data": {
      "text/plain": [
       "['dog', 'cat', 'walrus']"
      ]
     },
     "execution_count": 32,
     "metadata": {},
     "output_type": "execute_result"
    }
   ],
   "source": [
    "list(e2f.keys())"
   ]
  },
  {
   "cell_type": "markdown",
   "id": "280dd138",
   "metadata": {},
   "source": [
    "<span style=\"color: red;\">13. Make a multilevel dictionary called life. Use these strings for the topmost keys: 'animals', 'plants', and 'other'. Make the 'animals' key refer to another dictionary with the keys 'cats', 'octopi', and 'emus'. Make the 'cats' key refer to a list of strings with the values 'Henri', 'Grumpy', and 'Lucy'. Make all the other keys refer to empty dictionaries.</span>"
   ]
  },
  {
   "cell_type": "code",
   "execution_count": 33,
   "id": "c8eaa9d1",
   "metadata": {},
   "outputs": [
    {
     "data": {
      "text/plain": [
       "{'animals': {'cats': ['Henri', 'Grumpy', 'Lucy'], 'octopi': {}, 'emus': {}},\n",
       " 'plants': {},\n",
       " 'other': {}}"
      ]
     },
     "execution_count": 33,
     "metadata": {},
     "output_type": "execute_result"
    }
   ],
   "source": [
    "life = { 'animals' : { 'cats' : [ 'Henri', 'Grumpy', 'Lucy' ], 'octopi' : {}, 'emus' : {}  }, 'plants' : {}, 'other' : {} }\n",
    "life"
   ]
  },
  {
   "cell_type": "markdown",
   "id": "077f55f6",
   "metadata": {},
   "source": [
    "<span style=\"color: red;\">14. Print the top-level keys of life.</span>"
   ]
  },
  {
   "cell_type": "code",
   "execution_count": 34,
   "id": "7687c2ca",
   "metadata": {},
   "outputs": [
    {
     "name": "stdout",
     "output_type": "stream",
     "text": [
      "['animals', 'plants', 'other']\n"
     ]
    }
   ],
   "source": [
    "print(list(life.keys()))"
   ]
  },
  {
   "cell_type": "markdown",
   "id": "6cb8684b",
   "metadata": {},
   "source": [
    "<span style=\"color: red;\">15. Print the keys for life['animals'].</span>"
   ]
  },
  {
   "cell_type": "code",
   "execution_count": 36,
   "id": "e3de9a00",
   "metadata": {},
   "outputs": [
    {
     "name": "stdout",
     "output_type": "stream",
     "text": [
      "['cats', 'octopi', 'emus']\n"
     ]
    }
   ],
   "source": [
    "print(list(life['animals'].keys()))"
   ]
  },
  {
   "cell_type": "markdown",
   "id": "a63f0937",
   "metadata": {},
   "source": [
    "<span style=\"color: red;\">\n",
    "16. Print the values for life['animals']['cats']</span>"
   ]
  },
  {
   "cell_type": "code",
   "execution_count": 37,
   "id": "7aa0d099",
   "metadata": {},
   "outputs": [
    {
     "name": "stdout",
     "output_type": "stream",
     "text": [
      "['Henri', 'Grumpy', 'Lucy']\n"
     ]
    }
   ],
   "source": [
    "print(life['animals']['cats'])"
   ]
  }
 ],
 "metadata": {
  "kernelspec": {
   "display_name": "Python 3 (ipykernel)",
   "language": "python",
   "name": "python3"
  },
  "language_info": {
   "codemirror_mode": {
    "name": "ipython",
    "version": 3
   },
   "file_extension": ".py",
   "mimetype": "text/x-python",
   "name": "python",
   "nbconvert_exporter": "python",
   "pygments_lexer": "ipython3",
   "version": "3.9.7"
  }
 },
 "nbformat": 4,
 "nbformat_minor": 5
}
