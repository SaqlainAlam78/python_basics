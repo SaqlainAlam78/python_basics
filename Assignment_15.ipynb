{
 "cells": [
  {
   "cell_type": "markdown",
   "id": "7691a6a9",
   "metadata": {},
   "source": [
    "<span style=\"color: red;\">1.How many seconds are in an hour? Use the interactive interpreter as a calculator and multiply the number of seconds in a minute (60) by the number of minutes in an hour (also 60).</span>"
   ]
  },
  {
   "cell_type": "code",
   "execution_count": 1,
   "id": "01c5953e",
   "metadata": {},
   "outputs": [
    {
     "name": "stdout",
     "output_type": "stream",
     "text": [
      "3600\n"
     ]
    }
   ],
   "source": [
    "Ans : print(60*60)"
   ]
  },
  {
   "cell_type": "markdown",
   "id": "8f0ce986",
   "metadata": {},
   "source": [
    "<span style=\"color: red;\">2. Assign the result from the previous task (seconds in an hour) to a variable called seconds_per_hour.</span>"
   ]
  },
  {
   "cell_type": "code",
   "execution_count": 4,
   "id": "079bf5eb",
   "metadata": {},
   "outputs": [
    {
     "name": "stdout",
     "output_type": "stream",
     "text": [
      "3600\n"
     ]
    }
   ],
   "source": [
    "seconds_per_hour = 60*60\n",
    "print(seconds_per_hour)"
   ]
  },
  {
   "cell_type": "markdown",
   "id": "907b3980",
   "metadata": {},
   "source": [
    "<span style=\"color: red;\">3. How many seconds do you think there are in a day? Make use of the variables seconds per hour and minutes per hour.</span>"
   ]
  },
  {
   "cell_type": "code",
   "execution_count": 5,
   "id": "f283ba5a",
   "metadata": {},
   "outputs": [
    {
     "name": "stdout",
     "output_type": "stream",
     "text": [
      "86400\n"
     ]
    }
   ],
   "source": [
    "minutes_per_hour = 60\n",
    "print(seconds_per_hour*24)"
   ]
  },
  {
   "cell_type": "markdown",
   "id": "11473439",
   "metadata": {},
   "source": [
    "<span style=\"color: red;\">4. Calculate seconds per day again, but this time save the result in a variable called seconds_per_day</span>"
   ]
  },
  {
   "cell_type": "code",
   "execution_count": 7,
   "id": "02586a4a",
   "metadata": {},
   "outputs": [
    {
     "data": {
      "text/plain": [
       "86400"
      ]
     },
     "execution_count": 7,
     "metadata": {},
     "output_type": "execute_result"
    }
   ],
   "source": [
    "seconds_per_day = seconds_per_hour*24\n",
    "seconds_per_day"
   ]
  },
  {
   "cell_type": "markdown",
   "id": "416e2174",
   "metadata": {},
   "source": [
    "<span style=\"color: red;\">5. Divide seconds_per_day by seconds_per_hour. Use floating-point (/) division.</span>"
   ]
  },
  {
   "cell_type": "code",
   "execution_count": 8,
   "id": "38cbbe96",
   "metadata": {},
   "outputs": [
    {
     "name": "stdout",
     "output_type": "stream",
     "text": [
      "24.0\n"
     ]
    }
   ],
   "source": [
    "print(seconds_per_day/seconds_per_hour)"
   ]
  },
  {
   "cell_type": "markdown",
   "id": "98037340",
   "metadata": {},
   "source": [
    "<span style=\"color: red;\">6. Divide seconds_per_day by seconds_per_hour, using integer (//) division. Did this number agree with the floating-point value from the previous question, aside from the final .0?</span>"
   ]
  },
  {
   "cell_type": "code",
   "execution_count": 11,
   "id": "500c3468",
   "metadata": {},
   "outputs": [
    {
     "name": "stdout",
     "output_type": "stream",
     "text": [
      "24 yes \n"
     ]
    }
   ],
   "source": [
    "print(seconds_per_day//seconds_per_hour, end='')\n",
    "print( \" yes \" )"
   ]
  },
  {
   "cell_type": "markdown",
   "id": "7c93257a",
   "metadata": {},
   "source": [
    "<span style=\"color: red;\">7. Write a generator, genPrimes, that returns the sequence of prime numbers on successive calls to its next() method: 2, 3, 5, 7, 11, ...</span>"
   ]
  },
  {
   "cell_type": "code",
   "execution_count": 12,
   "id": "881e84e6",
   "metadata": {},
   "outputs": [
    {
     "name": "stdout",
     "output_type": "stream",
     "text": [
      "2\n",
      "3\n",
      "5\n",
      "7\n",
      "11\n"
     ]
    }
   ],
   "source": [
    "def genPrimes():\n",
    "    n = 0\n",
    "    while True:\n",
    "        if n == 2 or n == 3 :\n",
    "            yield n\n",
    "        elif ((n-1)%6 == 0 or (n+1)%6 == 0) and n !=1:\n",
    "            yield n\n",
    "        n = n+1\n",
    "        \n",
    "output = genPrimes()\n",
    "for ele in range(5):\n",
    "    print(next(output))"
   ]
  }
 ],
 "metadata": {
  "kernelspec": {
   "display_name": "Python 3 (ipykernel)",
   "language": "python",
   "name": "python3"
  },
  "language_info": {
   "codemirror_mode": {
    "name": "ipython",
    "version": 3
   },
   "file_extension": ".py",
   "mimetype": "text/x-python",
   "name": "python",
   "nbconvert_exporter": "python",
   "pygments_lexer": "ipython3",
   "version": "3.9.7"
  }
 },
 "nbformat": 4,
 "nbformat_minor": 5
}
