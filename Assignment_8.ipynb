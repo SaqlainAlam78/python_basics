{
 "cells": [
  {
   "cell_type": "code",
   "execution_count": null,
   "id": "0b77ba17",
   "metadata": {},
   "outputs": [],
   "source": [
    "#1. Is the Python Standard Library included with PyInputPlus?\n",
    "\n",
    "Ans - No\n"
   ]
  },
  {
   "cell_type": "code",
   "execution_count": null,
   "id": "42721364",
   "metadata": {},
   "outputs": [],
   "source": [
    "#2. Why is PyInputPlus commonly imported with import pyinputplus as pypi?\n",
    "\n",
    "Ans - \"'mainly becaus it is a generic approach and also we can enter a shorter name when calling the module's functions.'\"\n"
   ]
  },
  {
   "cell_type": "code",
   "execution_count": null,
   "id": "356116f0",
   "metadata": {},
   "outputs": [],
   "source": [
    "#3. How do you distinguish between inputInt() and inputFloat()?\n",
    "\n",
    "\n",
    "Ans - \"inputInt() : it returns int,and takes number without decimal\"\n",
    "      \"inputFloat() : it returns float,and takes number with decimal\"\n",
    "\n"
   ]
  },
  {
   "cell_type": "code",
   "execution_count": null,
   "id": "dca86e33",
   "metadata": {},
   "outputs": [],
   "source": [
    "#4. Using PyInputPlus, how do you ensure that the user enters a whole number between 0 and 99?\n",
    "\n",
    "Ans - \"'wholenumber = pyip.inputInt(prompt='Enter a number: ', min=0, max=100)'\"\n",
    "\n"
   ]
  },
  {
   "cell_type": "code",
   "execution_count": null,
   "id": "661ca23d",
   "metadata": {},
   "outputs": [],
   "source": [
    "#5. What is transferred to the keyword arguments allowRegexes and blockRegexes?\n",
    "\n",
    "Ans - 'allowRegexes - it is a keyword argument to take list of regular expression strings to determine what the pyinputplus function will allow'\n",
    "\n",
    "      'blockRegexes - it is a keyword argument to take list of regular expression strings to determine what the pyinputplus function will reject'\n"
   ]
  },
  {
   "cell_type": "code",
   "execution_count": null,
   "id": "e44a8d95",
   "metadata": {},
   "outputs": [],
   "source": [
    "#6. If a blank input is entered three times, what does inputStr(limit=3) do?\n",
    "\n",
    "Ans - 'it will throw an error: pyinputplus.RetryLimitException'\n"
   ]
  },
  {
   "cell_type": "code",
   "execution_count": null,
   "id": "0f9b0af0",
   "metadata": {},
   "outputs": [],
   "source": [
    "#7. If blank input is entered three times, what does inputStr(limit=3, default='hello') do?\n",
    "\n",
    "Ans - ' the function will return hello as response to the calling function'\n"
   ]
  }
 ],
 "metadata": {
  "kernelspec": {
   "display_name": "Python 3 (ipykernel)",
   "language": "python",
   "name": "python3"
  },
  "language_info": {
   "codemirror_mode": {
    "name": "ipython",
    "version": 3
   },
   "file_extension": ".py",
   "mimetype": "text/x-python",
   "name": "python",
   "nbconvert_exporter": "python",
   "pygments_lexer": "ipython3",
   "version": "3.9.7"
  }
 },
 "nbformat": 4,
 "nbformat_minor": 5
}
