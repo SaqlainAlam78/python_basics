{
 "cells": [
  {
   "cell_type": "markdown",
   "id": "2c16ffc7",
   "metadata": {},
   "source": [
    "<span style=\"color: red;\">1. What advantages do Excel spreadsheets have over CSV spreadsheets?</span>"
   ]
  },
  {
   "cell_type": "markdown",
   "id": "887eae1b",
   "metadata": {},
   "source": [
    "Ans: The Advantages of Excel over CSV are:<br>\n",
    "\n",
    "Excel (XLS and XLSX) file formats are better for storing and analysing complex data.<br>\n",
    "An Excel not only stores data but can also do operations on the data using macros, formulas etc<br>\n",
    "CSV files are plain-text files, Does not contain formatting, formulas, macros, etc. It is also known as flat files\n"
   ]
  },
  {
   "cell_type": "markdown",
   "id": "d95373b1",
   "metadata": {},
   "source": [
    "<span style=\"color: red;\">2.What do you pass to csv.reader() and csv.writer() to create reader and writer objects?</span>"
   ]
  },
  {
   "cell_type": "markdown",
   "id": "9121a244",
   "metadata": {},
   "source": [
    "<span style=\"color: black;\">Ans : In csv.reader() we pass file and dialect.<br>\n",
    "                                  In csv.writer() we pass fileobj and dialect.</span>"
   ]
  },
  {
   "cell_type": "markdown",
   "id": "4d08b28e",
   "metadata": {},
   "source": [
    "<span style=\"color: red;\">3. What modes do File objects for reader and writer objects need to be opened in?</span>"
   ]
  },
  {
   "cell_type": "markdown",
   "id": "e1e9f5ba",
   "metadata": {},
   "source": [
    "Ans :for reader object we open file in read mode 'r' <br>\n",
    " for writer object we open file in write mode 'w'."
   ]
  },
  {
   "cell_type": "markdown",
   "id": "13d69460",
   "metadata": {},
   "source": [
    "<span style=\"color: red;\">4. What method takes a list argument and writes it to a CSV file?</span>"
   ]
  },
  {
   "cell_type": "markdown",
   "id": "1fb7e98e",
   "metadata": {},
   "source": [
    "Ans : use writerow() method for list argument in csv file."
   ]
  },
  {
   "cell_type": "markdown",
   "id": "cfc2c5b0",
   "metadata": {},
   "source": [
    "<span style=\"color: red;\">5. What do the keyword arguments delimiter and line terminator do?</span>"
   ]
  },
  {
   "cell_type": "markdown",
   "id": "c41eabef",
   "metadata": {},
   "source": [
    "Ans: Lets take the example of a csv file:\n",
    "\n",
    "First Name, Last Name, Age<br>\n",
    "Saqlain, Alam, 24<br>\n",
    "Ram, Bose, 21<br>\n",
    "Here ',' is Delimiter. We can use any Character as per our needs if required. Similarly Line Terminator comes at end of line by default it is newline and can be changed accourding to Requirement."
   ]
  },
  {
   "cell_type": "markdown",
   "id": "45de27a0",
   "metadata": {},
   "source": [
    "<span style=\"color: red;\">6. What function takes a string of JSON data and returns a Python data structure?</span>"
   ]
  },
  {
   "cell_type": "markdown",
   "id": "e6fd5043",
   "metadata": {},
   "source": [
    "Ans : loads() method takes a string of JSON data and returns a Python data structure"
   ]
  },
  {
   "cell_type": "markdown",
   "id": "c8a1649a",
   "metadata": {},
   "source": [
    "<span style=\"color: red;\">7. What function takes a Python data structure and returns a string of JSON data?</span>"
   ]
  },
  {
   "cell_type": "markdown",
   "id": "9570d476",
   "metadata": {},
   "source": [
    "Ans : dumps() method takes a python data structure and returns a string of JSON data"
   ]
  }
 ],
 "metadata": {
  "kernelspec": {
   "display_name": "Python 3 (ipykernel)",
   "language": "python",
   "name": "python3"
  },
  "language_info": {
   "codemirror_mode": {
    "name": "ipython",
    "version": 3
   },
   "file_extension": ".py",
   "mimetype": "text/x-python",
   "name": "python",
   "nbconvert_exporter": "python",
   "pygments_lexer": "ipython3",
   "version": "3.9.7"
  }
 },
 "nbformat": 4,
 "nbformat_minor": 5
}
