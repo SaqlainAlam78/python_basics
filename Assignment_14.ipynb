{
 "cells": [
  {
   "cell_type": "markdown",
   "id": "1ea47b0c",
   "metadata": {},
   "source": [
    " <span style=\"color: red;\">1. What does RGBA stand for?</span>"
   ]
  },
  {
   "cell_type": "markdown",
   "id": "3bc5303d",
   "metadata": {},
   "source": [
    "Ans: RGBA is a four-channel format containing data for Red, Green, Blue, and an Alpha value. Where Alpha Represents the Opacity"
   ]
  },
  {
   "cell_type": "markdown",
   "id": "9c3f4280",
   "metadata": {},
   "source": [
    " <span style=\"color: red;\">2. From the Pillow module, how do you get the RGBA value of any images?</span>"
   ]
  },
  {
   "cell_type": "markdown",
   "id": "d698ac4f",
   "metadata": {},
   "source": [
    "Ans : ImageColor.getcolor() gives rgba value of any image."
   ]
  },
  {
   "cell_type": "markdown",
   "id": "0099e647",
   "metadata": {},
   "source": [
    " <span style=\"color: red;\">3. What is a box tuple, and how does it work?</span>"
   ]
  },
  {
   "cell_type": "markdown",
   "id": "2d08b815",
   "metadata": {},
   "source": [
    "Ans : Box tuple is container of tuple of four integers where x-coordinate is represented by left edge, y-coordinate by top\n",
    "edge width and height respectively."
   ]
  },
  {
   "cell_type": "markdown",
   "id": "5f23fa6f",
   "metadata": {},
   "source": [
    "<span style=\"color: red;\">4. Use your image and load in notebook then, How can you find out the width and height of an Image object?</span>"
   ]
  },
  {
   "cell_type": "code",
   "execution_count": null,
   "id": "966ce491",
   "metadata": {},
   "outputs": [],
   "source": [
    "from PIL import Image\n",
    "pic = PIL.Image.open('trial.jpg')\n",
    "width = pic.width\n",
    "height = pic.height\n",
    "\n",
    "print(\"width and height of image is {}, {} respectively\".format(width,height))\n"
   ]
  },
  {
   "cell_type": "markdown",
   "id": "b9075995",
   "metadata": {},
   "source": [
    "width and height of image is 1280, 720 respectively"
   ]
  },
  {
   "cell_type": "markdown",
   "id": "727c6b6b",
   "metadata": {},
   "source": [
    "<span style=\"color: red;\">5. What method would you call to get Image object for a 100×100 image, excluding the lower-left quarter of it?</span>"
   ]
  },
  {
   "cell_type": "markdown",
   "id": "03d88961",
   "metadata": {},
   "source": [
    "Ans : imageObj.crop((0, 50, 50, 50))"
   ]
  },
  {
   "cell_type": "markdown",
   "id": "cd4d9335",
   "metadata": {},
   "source": [
    " <span style=\"color: red;\">6. After making changes to an Image object, how could you save it as an image file?</span>"
   ]
  },
  {
   "cell_type": "markdown",
   "id": "07b83577",
   "metadata": {},
   "source": [
    "Ans : imageObj.save('new_name.jpg')"
   ]
  },
  {
   "cell_type": "markdown",
   "id": "eaff1344",
   "metadata": {},
   "source": [
    " <span style=\"color: red;\">7. What module contains Pillow’s shape-drawing code?</span>"
   ]
  },
  {
   "cell_type": "markdown",
   "id": "a77a2858",
   "metadata": {},
   "source": [
    "Ans : Pillows ImageDraw module contains Shape drawing methods. The 'ImageDraw' module provides simple 2D graphics support for Image Object. Generally, we use this module to create new images, annotate or retouch existing images and to generate graphics on the fly for web use. The graphics commands support the drawing of shapes and annotation of text."
   ]
  },
  {
   "cell_type": "markdown",
   "id": "a8c1870b",
   "metadata": {},
   "source": [
    "<span style=\"color: red;\">8. Image objects do not have drawing methods. What kind of object does? How do you get this kind of object?</span>"
   ]
  },
  {
   "cell_type": "markdown",
   "id": "d35d42a5",
   "metadata": {},
   "source": [
    "Ans : They have shape drawing methods like line(), point(), rectangle()\n",
    "we can call they by using ImageDraw.Draw() function. "
   ]
  }
 ],
 "metadata": {
  "kernelspec": {
   "display_name": "Python 3 (ipykernel)",
   "language": "python",
   "name": "python3"
  },
  "language_info": {
   "codemirror_mode": {
    "name": "ipython",
    "version": 3
   },
   "file_extension": ".py",
   "mimetype": "text/x-python",
   "name": "python",
   "nbconvert_exporter": "python",
   "pygments_lexer": "ipython3",
   "version": "3.9.7"
  }
 },
 "nbformat": 4,
 "nbformat_minor": 5
}
